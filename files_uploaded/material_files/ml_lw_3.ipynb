{
  "nbformat": 4,
  "nbformat_minor": 0,
  "metadata": {
    "kernelspec": {
      "display_name": "Python 3",
      "language": "python",
      "name": "python3"
    },
    "language_info": {
      "codemirror_mode": {
        "name": "ipython",
        "version": 3
      },
      "file_extension": ".py",
      "mimetype": "text/x-python",
      "name": "python",
      "nbconvert_exporter": "python",
      "pygments_lexer": "ipython3",
      "version": "3.8.6"
    },
    "colab": {
      "name": "ml_lw_3.ipynb",
      "provenance": [],
      "collapsed_sections": [],
      "toc_visible": true
    }
  },
  "cells": [
    {
      "cell_type": "markdown",
      "metadata": {
        "id": "Ghoc66h5ROnA"
      },
      "source": [
        "# <b>Лабораторна робота №3</b>\n",
        "<b>з машинного навчання<br>\n",
        "студента 3 курсу<br>\n",
        "групи \"Комп'ютерна математика\"<br>\n",
        "Демченка Андрія</b><br>\n",
        "\n",
        "***Варіант №6***"
      ]
    },
    {
      "cell_type": "markdown",
      "metadata": {
        "id": "MyHRXiC1JzZ0"
      },
      "source": [
        "Імпорт необхідних пакетів"
      ]
    },
    {
      "cell_type": "code",
      "metadata": {
        "id": "-mhCVOm0dKHr"
      },
      "source": [
        "import numpy as np\n",
        "import pandas as pd\n",
        "\n",
        "from sklearn.model_selection import train_test_split as split_df"
      ],
      "execution_count": 1,
      "outputs": []
    },
    {
      "cell_type": "markdown",
      "metadata": {
        "id": "qo_UiNF_Orao"
      },
      "source": [
        "Підключаємо Гугл-Диск"
      ]
    },
    {
      "cell_type": "code",
      "metadata": {
        "colab": {
          "base_uri": "https://localhost:8080/"
        },
        "id": "WDS4fOQ4KXxH",
        "outputId": "e635e962-6930-4a16-8427-6fd18f1f3305"
      },
      "source": [
        "from google.colab import drive\n",
        "drive.mount('/content/drive')"
      ],
      "execution_count": 2,
      "outputs": [
        {
          "output_type": "stream",
          "text": [
            "Drive already mounted at /content/drive; to attempt to forcibly remount, call drive.mount(\"/content/drive\", force_remount=True).\n"
          ],
          "name": "stdout"
        }
      ]
    },
    {
      "cell_type": "markdown",
      "metadata": {
        "id": "lAg2FoLxKYFB"
      },
      "source": [
        "Завантажуємо датасет"
      ]
    },
    {
      "cell_type": "code",
      "metadata": {
        "colab": {
          "base_uri": "https://localhost:8080/",
          "height": 206
        },
        "id": "q5ZD3iYiK7jo",
        "outputId": "0f850514-3ffb-4edd-aa59-2d936e06ffa4"
      },
      "source": [
        "headers = ('UserID', 'Game', 'Action', 'Hours', 'Not_Needed')\n",
        "df = pd.read_csv('/content/drive/MyDrive/Colab Notebooks/datasets/steam-200k.csv', header=None, index_col=False, names=headers)\n",
        "\n",
        "df.head()"
      ],
      "execution_count": 3,
      "outputs": [
        {
          "output_type": "execute_result",
          "data": {
            "text/html": [
              "<div>\n",
              "<style scoped>\n",
              "    .dataframe tbody tr th:only-of-type {\n",
              "        vertical-align: middle;\n",
              "    }\n",
              "\n",
              "    .dataframe tbody tr th {\n",
              "        vertical-align: top;\n",
              "    }\n",
              "\n",
              "    .dataframe thead th {\n",
              "        text-align: right;\n",
              "    }\n",
              "</style>\n",
              "<table border=\"1\" class=\"dataframe\">\n",
              "  <thead>\n",
              "    <tr style=\"text-align: right;\">\n",
              "      <th></th>\n",
              "      <th>UserID</th>\n",
              "      <th>Game</th>\n",
              "      <th>Action</th>\n",
              "      <th>Hours</th>\n",
              "      <th>Not_Needed</th>\n",
              "    </tr>\n",
              "  </thead>\n",
              "  <tbody>\n",
              "    <tr>\n",
              "      <th>0</th>\n",
              "      <td>151603712</td>\n",
              "      <td>The Elder Scrolls V Skyrim</td>\n",
              "      <td>purchase</td>\n",
              "      <td>1.0</td>\n",
              "      <td>0</td>\n",
              "    </tr>\n",
              "    <tr>\n",
              "      <th>1</th>\n",
              "      <td>151603712</td>\n",
              "      <td>The Elder Scrolls V Skyrim</td>\n",
              "      <td>play</td>\n",
              "      <td>273.0</td>\n",
              "      <td>0</td>\n",
              "    </tr>\n",
              "    <tr>\n",
              "      <th>2</th>\n",
              "      <td>151603712</td>\n",
              "      <td>Fallout 4</td>\n",
              "      <td>purchase</td>\n",
              "      <td>1.0</td>\n",
              "      <td>0</td>\n",
              "    </tr>\n",
              "    <tr>\n",
              "      <th>3</th>\n",
              "      <td>151603712</td>\n",
              "      <td>Fallout 4</td>\n",
              "      <td>play</td>\n",
              "      <td>87.0</td>\n",
              "      <td>0</td>\n",
              "    </tr>\n",
              "    <tr>\n",
              "      <th>4</th>\n",
              "      <td>151603712</td>\n",
              "      <td>Spore</td>\n",
              "      <td>purchase</td>\n",
              "      <td>1.0</td>\n",
              "      <td>0</td>\n",
              "    </tr>\n",
              "  </tbody>\n",
              "</table>\n",
              "</div>"
            ],
            "text/plain": [
              "      UserID                        Game    Action  Hours  Not_Needed\n",
              "0  151603712  The Elder Scrolls V Skyrim  purchase    1.0           0\n",
              "1  151603712  The Elder Scrolls V Skyrim      play  273.0           0\n",
              "2  151603712                   Fallout 4  purchase    1.0           0\n",
              "3  151603712                   Fallout 4      play   87.0           0\n",
              "4  151603712                       Spore  purchase    1.0           0"
            ]
          },
          "metadata": {
            "tags": []
          },
          "execution_count": 3
        }
      ]
    },
    {
      "cell_type": "markdown",
      "metadata": {
        "id": "b5k6L4wHO-M1"
      },
      "source": [
        "Попередньо обробимо наші дані, заповнимо нулями ігри, які були куплені, але в них не грали"
      ]
    },
    {
      "cell_type": "code",
      "metadata": {
        "id": "FKN6SmGRO_uG",
        "colab": {
          "base_uri": "https://localhost:8080/",
          "height": 206
        },
        "outputId": "9a3ce323-e597-4a96-a3d5-65e940e84f8f"
      },
      "source": [
        "df['Hours_Played'] = df['Hours'].astype('float32')\n",
        "df.loc[(df['Action'] == 'purchase') & (df['Hours'] == 1.0), 'Hours_Played'] = 0\n",
        "\n",
        "df.head()"
      ],
      "execution_count": 4,
      "outputs": [
        {
          "output_type": "execute_result",
          "data": {
            "text/html": [
              "<div>\n",
              "<style scoped>\n",
              "    .dataframe tbody tr th:only-of-type {\n",
              "        vertical-align: middle;\n",
              "    }\n",
              "\n",
              "    .dataframe tbody tr th {\n",
              "        vertical-align: top;\n",
              "    }\n",
              "\n",
              "    .dataframe thead th {\n",
              "        text-align: right;\n",
              "    }\n",
              "</style>\n",
              "<table border=\"1\" class=\"dataframe\">\n",
              "  <thead>\n",
              "    <tr style=\"text-align: right;\">\n",
              "      <th></th>\n",
              "      <th>UserID</th>\n",
              "      <th>Game</th>\n",
              "      <th>Action</th>\n",
              "      <th>Hours</th>\n",
              "      <th>Not_Needed</th>\n",
              "      <th>Hours_Played</th>\n",
              "    </tr>\n",
              "  </thead>\n",
              "  <tbody>\n",
              "    <tr>\n",
              "      <th>0</th>\n",
              "      <td>151603712</td>\n",
              "      <td>The Elder Scrolls V Skyrim</td>\n",
              "      <td>purchase</td>\n",
              "      <td>1.0</td>\n",
              "      <td>0</td>\n",
              "      <td>0.0</td>\n",
              "    </tr>\n",
              "    <tr>\n",
              "      <th>1</th>\n",
              "      <td>151603712</td>\n",
              "      <td>The Elder Scrolls V Skyrim</td>\n",
              "      <td>play</td>\n",
              "      <td>273.0</td>\n",
              "      <td>0</td>\n",
              "      <td>273.0</td>\n",
              "    </tr>\n",
              "    <tr>\n",
              "      <th>2</th>\n",
              "      <td>151603712</td>\n",
              "      <td>Fallout 4</td>\n",
              "      <td>purchase</td>\n",
              "      <td>1.0</td>\n",
              "      <td>0</td>\n",
              "      <td>0.0</td>\n",
              "    </tr>\n",
              "    <tr>\n",
              "      <th>3</th>\n",
              "      <td>151603712</td>\n",
              "      <td>Fallout 4</td>\n",
              "      <td>play</td>\n",
              "      <td>87.0</td>\n",
              "      <td>0</td>\n",
              "      <td>87.0</td>\n",
              "    </tr>\n",
              "    <tr>\n",
              "      <th>4</th>\n",
              "      <td>151603712</td>\n",
              "      <td>Spore</td>\n",
              "      <td>purchase</td>\n",
              "      <td>1.0</td>\n",
              "      <td>0</td>\n",
              "      <td>0.0</td>\n",
              "    </tr>\n",
              "  </tbody>\n",
              "</table>\n",
              "</div>"
            ],
            "text/plain": [
              "      UserID                        Game  ... Not_Needed  Hours_Played\n",
              "0  151603712  The Elder Scrolls V Skyrim  ...          0           0.0\n",
              "1  151603712  The Elder Scrolls V Skyrim  ...          0         273.0\n",
              "2  151603712                   Fallout 4  ...          0           0.0\n",
              "3  151603712                   Fallout 4  ...          0          87.0\n",
              "4  151603712                       Spore  ...          0           0.0\n",
              "\n",
              "[5 rows x 6 columns]"
            ]
          },
          "metadata": {
            "tags": []
          },
          "execution_count": 4
        }
      ]
    },
    {
      "cell_type": "markdown",
      "metadata": {
        "id": "TwVMfEE9PMSE"
      },
      "source": [
        "Відсортуємо та відкинемо дублікати"
      ]
    },
    {
      "cell_type": "code",
      "metadata": {
        "id": "jj3hXuOaPN9w"
      },
      "source": [
        "df.UserID = df['UserID'].astype('int')\n",
        "df = df.sort_values(['UserID', 'Game', 'Hours_Played'])\n",
        "\n",
        "clean_df = df.drop_duplicates(['UserID', 'Game'], keep = 'last').drop(['Action', 'Hours', 'Not_Needed'], axis = 1)\n",
        "\n",
        "data_matrix = clean_df.values"
      ],
      "execution_count": 5,
      "outputs": []
    },
    {
      "cell_type": "markdown",
      "metadata": {
        "id": "6BF9nMjMPUBO"
      },
      "source": [
        "Покажімо результат"
      ]
    },
    {
      "cell_type": "code",
      "metadata": {
        "colab": {
          "base_uri": "https://localhost:8080/",
          "height": 206
        },
        "id": "kmjnDrLePS7A",
        "outputId": "11f38e84-290c-41d3-fc64-eea1f15a5f7a"
      },
      "source": [
        "clean_df.head()"
      ],
      "execution_count": 6,
      "outputs": [
        {
          "output_type": "execute_result",
          "data": {
            "text/html": [
              "<div>\n",
              "<style scoped>\n",
              "    .dataframe tbody tr th:only-of-type {\n",
              "        vertical-align: middle;\n",
              "    }\n",
              "\n",
              "    .dataframe tbody tr th {\n",
              "        vertical-align: top;\n",
              "    }\n",
              "\n",
              "    .dataframe thead th {\n",
              "        text-align: right;\n",
              "    }\n",
              "</style>\n",
              "<table border=\"1\" class=\"dataframe\">\n",
              "  <thead>\n",
              "    <tr style=\"text-align: right;\">\n",
              "      <th></th>\n",
              "      <th>UserID</th>\n",
              "      <th>Game</th>\n",
              "      <th>Hours_Played</th>\n",
              "    </tr>\n",
              "  </thead>\n",
              "  <tbody>\n",
              "    <tr>\n",
              "      <th>65430</th>\n",
              "      <td>5250</td>\n",
              "      <td>Alien Swarm</td>\n",
              "      <td>4.9</td>\n",
              "    </tr>\n",
              "    <tr>\n",
              "      <th>65424</th>\n",
              "      <td>5250</td>\n",
              "      <td>Cities Skylines</td>\n",
              "      <td>144.0</td>\n",
              "    </tr>\n",
              "    <tr>\n",
              "      <th>65435</th>\n",
              "      <td>5250</td>\n",
              "      <td>Counter-Strike</td>\n",
              "      <td>0.0</td>\n",
              "    </tr>\n",
              "    <tr>\n",
              "      <th>65436</th>\n",
              "      <td>5250</td>\n",
              "      <td>Counter-Strike Source</td>\n",
              "      <td>0.0</td>\n",
              "    </tr>\n",
              "    <tr>\n",
              "      <th>65437</th>\n",
              "      <td>5250</td>\n",
              "      <td>Day of Defeat</td>\n",
              "      <td>0.0</td>\n",
              "    </tr>\n",
              "  </tbody>\n",
              "</table>\n",
              "</div>"
            ],
            "text/plain": [
              "       UserID                   Game  Hours_Played\n",
              "65430    5250            Alien Swarm           4.9\n",
              "65424    5250        Cities Skylines         144.0\n",
              "65435    5250         Counter-Strike           0.0\n",
              "65436    5250  Counter-Strike Source           0.0\n",
              "65437    5250          Day of Defeat           0.0"
            ]
          },
          "metadata": {
            "tags": []
          },
          "execution_count": 6
        }
      ]
    },
    {
      "cell_type": "markdown",
      "metadata": {
        "id": "Vg0jP0_TQ0dn"
      },
      "source": [
        "Подивимось на кількість унікальних гравців та ігор"
      ]
    },
    {
      "cell_type": "code",
      "metadata": {
        "colab": {
          "base_uri": "https://localhost:8080/"
        },
        "id": "QbOrrlykQ55f",
        "outputId": "c8c9221e-5eb4-4fd5-cf72-2647f8c3bd16"
      },
      "source": [
        "n_users = len(clean_df.UserID.unique())\n",
        "n_games = len(clean_df.Game.unique())\n",
        "\n",
        "print(f'Унікальних гравців: {n_users}')\n",
        "print(f'Унікальних ігор: {n_games}')"
      ],
      "execution_count": 7,
      "outputs": [
        {
          "output_type": "stream",
          "text": [
            "Унікальних гравців: 12393\n",
            "Унікальних ігор: 5155\n"
          ],
          "name": "stdout"
        }
      ]
    },
    {
      "cell_type": "markdown",
      "metadata": {
        "id": "wMTdpDmJPNfB"
      },
      "source": [
        "Тепер визначимо між гравцями розподілені ігри"
      ]
    },
    {
      "cell_type": "code",
      "metadata": {
        "colab": {
          "base_uri": "https://localhost:8080/"
        },
        "id": "HG3KNSZ8RTw_",
        "outputId": "35abeb22-f404-4399-a1f6-22069d98e290"
      },
      "source": [
        "clean_df.Game.value_counts()"
      ],
      "execution_count": 8,
      "outputs": [
        {
          "output_type": "execute_result",
          "data": {
            "text/plain": [
              "Dota 2                             4841\n",
              "Team Fortress 2                    2323\n",
              "Unturned                           1563\n",
              "Counter-Strike Global Offensive    1412\n",
              "Half-Life 2 Lost Coast              981\n",
              "                                   ... \n",
              "RESCUE 2                              1\n",
              "The Legend of Tango                   1\n",
              "Foresight                             1\n",
              "Dungeon of Elements                   1\n",
              "Robot Rescue Revolution               1\n",
              "Name: Game, Length: 5155, dtype: int64"
            ]
          },
          "metadata": {
            "tags": []
          },
          "execution_count": 8
        }
      ]
    },
    {
      "cell_type": "markdown",
      "metadata": {
        "id": "_u45PXW-RcNz"
      },
      "source": [
        "Та навпаки ігри між гравцями"
      ]
    },
    {
      "cell_type": "code",
      "metadata": {
        "colab": {
          "base_uri": "https://localhost:8080/"
        },
        "id": "hGPDLRhjRbl0",
        "outputId": "02e4ec6a-c6f6-462d-a802-58c7884b00de"
      },
      "source": [
        "clean_df.UserID.value_counts()"
      ],
      "execution_count": 9,
      "outputs": [
        {
          "output_type": "execute_result",
          "data": {
            "text/plain": [
              "62990992     1068\n",
              "33865373      776\n",
              "30246419      759\n",
              "58345543      666\n",
              "76892907      597\n",
              "             ... \n",
              "52672853        1\n",
              "170176187       1\n",
              "163662283       1\n",
              "201028044       1\n",
              "217728407       1\n",
              "Name: UserID, Length: 12393, dtype: int64"
            ]
          },
          "metadata": {
            "tags": []
          },
          "execution_count": 9
        }
      ]
    },
    {
      "cell_type": "markdown",
      "metadata": {
        "id": "3KUHGXCoTJcy"
      },
      "source": [
        "Оскільки ми матриця ігор-гравців розріджена, то ми визначимо скільки відсотків матриці буде заповнено"
      ]
    },
    {
      "cell_type": "code",
      "metadata": {
        "colab": {
          "base_uri": "https://localhost:8080/"
        },
        "id": "hFdUorG-TI_t",
        "outputId": "ce234d28-c067-417c-93e1-1ad15894c305"
      },
      "source": [
        "sparsity = clean_df.shape[0] / float(n_users * n_games)\n",
        "print('{:.2%} буде заповнено'.format(sparsity * 100))"
      ],
      "execution_count": 10,
      "outputs": [
        {
          "output_type": "stream",
          "text": [
            "20.16% буде заповнено\n"
          ],
          "name": "stdout"
        }
      ]
    },
    {
      "cell_type": "markdown",
      "metadata": {
        "id": "7YsCtnmBT303"
      },
      "source": [
        "Замінимо назви ігор та гравців на нові індекси"
      ]
    },
    {
      "cell_type": "code",
      "metadata": {
        "id": "iQbwN2goRYUI"
      },
      "source": [
        "user2idx = {user: i for i, user in enumerate(clean_df.UserID.unique())}\n",
        "idx2user = {i: user for user, i in user2idx.items()}\n",
        "\n",
        "game2idx = {game: i for i, game in enumerate(clean_df.Game.unique())}\n",
        "idx2game = {i: game for game, i in game2idx.items()}\n",
        "\n",
        "user_idx = clean_df['UserID'].apply(lambda x: user2idx[x]).values\n",
        "game_idx = clean_df['Game'].apply(lambda x: game2idx[x]).values\n",
        "\n",
        "hours = clean_df['Hours_Played'].values"
      ],
      "execution_count": 11,
      "outputs": []
    },
    {
      "cell_type": "markdown",
      "metadata": {
        "id": "fJ0DGahXUQh8"
      },
      "source": [
        "Перевіримо себе та створимо numpy матрицю з отриманих масивів"
      ]
    },
    {
      "cell_type": "code",
      "metadata": {
        "colab": {
          "base_uri": "https://localhost:8080/"
        },
        "id": "iLbkye_wUR8u",
        "outputId": "c86ab283-d3ce-4de6-e3d3-89da156ea234"
      },
      "source": [
        "print(user_idx.shape, game_idx.shape, hours.shape)\n",
        "data = np.hstack([user_idx.reshape(-1, 1), game_idx.reshape(-1, 1), hours.reshape(-1, 1)]).astype(np.int64)\n",
        "data.shape"
      ],
      "execution_count": 12,
      "outputs": [
        {
          "output_type": "stream",
          "text": [
            "(128804,) (128804,) (128804,)\n"
          ],
          "name": "stdout"
        },
        {
          "output_type": "execute_result",
          "data": {
            "text/plain": [
              "(128804, 3)"
            ]
          },
          "metadata": {
            "tags": []
          },
          "execution_count": 12
        }
      ]
    },
    {
      "cell_type": "markdown",
      "metadata": {
        "id": "qg54sDiIUXh-"
      },
      "source": [
        "Тепер переходимо до створення класу для алгоритму PMF"
      ]
    },
    {
      "cell_type": "code",
      "metadata": {
        "id": "zTBP__2BUka9"
      },
      "source": [
        "class PMF(object):\n",
        "    \"\"\"Probabilistic Matrix Factorization algorithm.\n",
        "    # Main variables\n",
        "    :param n_features: Number of features\n",
        "    :param epsilon: Learning rate value\n",
        "    :param _lambda: L2 Regularization variable\n",
        "    :param momentum: Value of the gradient momentum \n",
        "    :param max_epochs: Max epochs amount for algorithm processing \n",
        "    \n",
        "    # SGD optimization\n",
        "    :param n_batches: Batches number for each epoch\n",
        "    :param batch_size: Amount of samples, used in one batch\n",
        "\n",
        "    # Features vectors\n",
        "    :param item_v: Vector for item feature\n",
        "    :param user_v: Vector for user feature\n",
        "\n",
        "    # RMSE samples\n",
        "    :param rmse_train: RMSE train sample\n",
        "    :param rmse_test: RMSE test sample\n",
        "    \"\"\"\n",
        "    \n",
        "    def __init__(self, n_features=10, epsilon=1, _lambda=0.1, momentum=0.8, max_epochs=20, n_batches=10, batch_size=1000):\n",
        "        \"\"\"Initialize the algorithm class and set parameters.\"\"\"\n",
        "        self.n_features = n_features\n",
        "        self.epsilon = epsilon\n",
        "        self._lambda = _lambda \n",
        "        self.momentum = momentum\n",
        "        self.max_epochs = max_epochs\n",
        "        \n",
        "        self.n_batches = n_batches\n",
        "        self.batch_size = batch_size\n",
        "\n",
        "        self.item_v = None \n",
        "        self.user_v = None\n",
        "\n",
        "        self.rmse_train = []\n",
        "        self.rmse_test = []\n",
        "\n",
        "    def fit(self, train_data, test_data):\n",
        "        \"\"\"Fit the model and compute RMSE.\n",
        "        :param train_data: Training data sample\n",
        "        :param test_data: Test data sample\n",
        "        \"\"\"\n",
        "        # Find the mean of game played hours by players\n",
        "        self.mean = np.mean(train_data[:, 2])  \n",
        "\n",
        "        # Remember the lengths of train and test samples\n",
        "        train_len = train_data.shape[0]\n",
        "        test_len = test_data.shape[0]\n",
        "\n",
        "        # Find maximal amount of users and games hours of both samples\n",
        "        n_user = int(max(np.amax(train_data[:, 0]), np.amax(test_data[:, 0]))) + 1\n",
        "        n_item = int(max(np.amax(train_data[:, 1]), np.amax(test_data[:, 1]))) + 1\n",
        "        \n",
        "        self.cur_epoch = 0  # Current epoch\n",
        "        \n",
        "        # Matrices of users and games hours normally distributed\n",
        "        self.user_v = 0.1 * np.random.normal(0, .1, (n_user, self.n_features))  # N x D\n",
        "        self.item_v = 0.1 * np.random.normal(0, .1, (n_item, self.n_features))  # M x D\n",
        "        \n",
        "\n",
        "        # Matrices of users and games for differences\n",
        "        self.user_v_diff = np.zeros((n_user, self.n_features))  # N x D\n",
        "        self.item_v_diff = np.zeros((n_item, self.n_features))  # M x D\n",
        "            \n",
        "        # Run Fitting while epoch won't reach given max amount\n",
        "        while self.cur_epoch < self.max_epochs:\n",
        "            self.cur_epoch += 1\n",
        "\n",
        "            # Creating random order for training data \n",
        "            shuffled_order = np.arange(train_data.shape[0])\n",
        "            np.random.shuffle(shuffled_order) \n",
        "\n",
        "            # Batch updating\n",
        "            for batch in range(self.n_batches):\n",
        "                cur_test = np.arange(self.batch_size * batch, self.batch_size * (batch + 1))\n",
        "                batch_idx = np.mod(cur_test, shuffled_order.shape[0])\n",
        "\n",
        "                # Get UserID and ItemID with computed batch id\n",
        "                batch_UserID = np.array(train_data[shuffled_order[batch_idx], 0], dtype='int64')\n",
        "                batch_ItemID = np.array(train_data[shuffled_order[batch_idx], 1], dtype='int64')\n",
        "\n",
        "                # Compute actual output\n",
        "                predict_out = np.sum(np.multiply(\n",
        "                    self.user_v[batch_UserID, :],\n",
        "                    self.item_v[batch_ItemID, :]),\n",
        "                    axis=1\n",
        "                )\n",
        "\n",
        "                # Find errors with Loss Function\n",
        "                err = predict_out - train_data[shuffled_order[batch_idx], 2] + self.mean\n",
        "\n",
        "                # Compute gradients\n",
        "                grads_user = 2 * np.multiply(err[:, np.newaxis], self.item_v[batch_ItemID, :]) \\\n",
        "                       + self._lambda * self.user_v[batch_UserID, :]\n",
        "                grads_item = 2 * np.multiply(err[:, np.newaxis], self.user_v[batch_UserID, :]) \\\n",
        "                       + self._lambda * (self.item_v[batch_ItemID, :])\n",
        "\n",
        "                # Prepare batch-sized gradiens\n",
        "                grads_user_batched = np.zeros((n_user, self.n_features))\n",
        "                grads_item_batched = np.zeros((n_item, self.n_features))\n",
        "\n",
        "                # Fill batched gradients with needed values\n",
        "                for i in range(self.batch_size):\n",
        "                    grads_item_batched[batch_ItemID[i], :] += grads_item[i, :]\n",
        "                    grads_user_batched[batch_UserID[i], :] += grads_user[i, :]\n",
        "\n",
        "#               # Update Matrices with momentum function\n",
        "                self.item_v_diff = self.momentum * self.item_v_diff + self.epsilon * grads_item_batched / self.batch_size\n",
        "                self.user_v_diff = self.momentum * self.user_v_diff + self.epsilon * grads_user_batched / self.batch_size\n",
        "\n",
        "                # Subtract differences and update matrices\n",
        "                self.item_v = self.item_v - self.item_v_diff\n",
        "                self.user_v = self.user_v - self.user_v_diff\n",
        "\n",
        "                # Compute actual output after\n",
        "                if batch == self.n_batches - 1:\n",
        "                    predict_out = np.sum(np.multiply(\n",
        "                        self.user_v[np.array(train_data[:, 0], dtype='int64'), :],\n",
        "                        self.item_v[np.array(train_data[:, 1], dtype='int64'), :]\n",
        "                    ), axis=1)  \n",
        "                    \n",
        "\n",
        "                    err = predict_out - train_data[:, 2] + self.mean\n",
        "                    obj = np.linalg.norm(err) ** 2 \\\n",
        "                          + 0.5 * self._lambda * (np.linalg.norm(self.user_v) ** 2 + np.linalg.norm(self.item_v) ** 2)\n",
        "\n",
        "                    self.rmse_train.append(np.sqrt(obj / train_len))\n",
        "\n",
        "                # Compute validation error\n",
        "                if batch == self.n_batches - 1:\n",
        "                    predict_out = np.sum(np.multiply(self.user_v[np.array(test_data[:, 0], dtype='int64'), :],\n",
        "                                                  self.item_v[np.array(test_data[:, 1], dtype='int64'), :]),\n",
        "                                         axis=1)  # mean_inv subtracted\n",
        "                    \n",
        "                    # Find errors with Loss Function\n",
        "                    err = predict_out - test_data[:, 2] + self.mean\n",
        "                    self.rmse_test.append(np.linalg.norm(err) / np.sqrt(test_len))\n",
        "\n",
        "                    # Output Log information\n",
        "                    if batch == self.n_batches - 1:\n",
        "                        print(f'Training data: {self.rmse_train[-1]}, Test data: {self.rmse_test[-1]}')\n",
        "\n",
        "    def predict(self, id):\n",
        "        \"\"\"Predict method.\"\"\"\n",
        "        matrices_mult = np.dot(self.item_v, self.user_v[int(id), :])\n",
        "        return matrices_mult + self.mean\n",
        "\n",
        "    def get_accuracies(self, test_data, n=10):\n",
        "        \"\"\"Calculate and return mean of n best accuracies\"\"\"\n",
        "        # Start accuracies of precision and recall\n",
        "        precision_acc = 0.0\n",
        "        recall_acc = 0.0\n",
        "\n",
        "        # Get test users\n",
        "        user_list = np.unique(test_data[:, 0])\n",
        "        predictions, intersection_cnt = {}, {}\n",
        "\n",
        "        # Fill None predictions indexes\n",
        "        for usr in user_list:\n",
        "            if predictions.get(usr, None) is None:\n",
        "                predictions[usr] = np.argsort(self.predict(usr))[-n:]\n",
        "\n",
        "        # Fill intersections\n",
        "        for i in range(test_data.shape[0]):\n",
        "            if test_data[i, 1] in predictions[test_data[i, 0]]:\n",
        "                intersection_cnt[test_data[i, 0]] = intersection_cnt.get(test_data[i, 0], 0) + 1\n",
        "        \n",
        "        usr_pairs_cnt = np.bincount(np.array(test_data[:, 0], dtype='int64'))\n",
        "\n",
        "        # Compute Precision and Recall Accuracies, finally\n",
        "        for usr in user_list:\n",
        "            precision_acc += intersection_cnt.get(usr, 0) / float(n)\n",
        "            recall_acc += intersection_cnt.get(usr, 0) / float(usr_pairs_cnt[int(usr)])\n",
        "\n",
        "        return precision_acc / len(user_list), recall_acc / len(user_list)"
      ],
      "execution_count": 13,
      "outputs": []
    },
    {
      "cell_type": "markdown",
      "metadata": {
        "id": "DyoxZOqpVIrV"
      },
      "source": [
        "Розбиваємо дані на тренувальну та тестову частини"
      ]
    },
    {
      "cell_type": "code",
      "metadata": {
        "id": "Iyavz6IaVUUi"
      },
      "source": [
        "train, test = split_df(data, test_size=0.2, random_state=3)"
      ],
      "execution_count": 14,
      "outputs": []
    },
    {
      "cell_type": "markdown",
      "metadata": {
        "id": "sRf8WK_bVogE"
      },
      "source": [
        "Спочатку спробуємо виконати алгоритм для d = 10"
      ]
    },
    {
      "cell_type": "code",
      "metadata": {
        "colab": {
          "base_uri": "https://localhost:8080/"
        },
        "id": "JFXZMn4-VoG8",
        "outputId": "7e241ef3-3074-4218-9bbe-f85801770cac"
      },
      "source": [
        "%%time\n",
        "pmf_1 = PMF(\n",
        "    n_features=10,\n",
        "    epsilon=0.05,\n",
        "    _lambda=0.00000001,\n",
        "    momentum=0.05,\n",
        "    max_epochs=10,\n",
        "    n_batches=80,\n",
        "    batch_size=5000\n",
        ")\n",
        "\n",
        "pmf_1.fit(train, test)"
      ],
      "execution_count": 15,
      "outputs": [
        {
          "output_type": "stream",
          "text": [
            "Training data: 172.5246080340151, Test data: 166.8909065296319\n",
            "Training data: 172.47341837445558, Test data: 166.8912604346441\n",
            "Training data: 162.8145450793057, Test data: 166.8663052003893\n",
            "Training data: 122.54187388037813, Test data: 166.52306472903422\n",
            "Training data: 121.25398629726719, Test data: 166.48748596588314\n",
            "Training data: 116.83859620530603, Test data: 167.8427992953371\n",
            "Training data: 100.7059268614879, Test data: 171.16738045335305\n",
            "Training data: 84.75795101750604, Test data: 174.48830001982788\n",
            "Training data: 79.46058983616234, Test data: 176.19155701054305\n",
            "Training data: 76.80594408584751, Test data: 176.32234676029745\n",
            "CPU times: user 21.7 s, sys: 1.51 s, total: 23.2 s\n",
            "Wall time: 22.1 s\n"
          ],
          "name": "stdout"
        }
      ]
    },
    {
      "cell_type": "markdown",
      "metadata": {
        "id": "TvSEb9hSWtdo"
      },
      "source": [
        "Тепер підставимо d = 20"
      ]
    },
    {
      "cell_type": "code",
      "metadata": {
        "colab": {
          "base_uri": "https://localhost:8080/"
        },
        "id": "WNHHhkB0Wtwo",
        "outputId": "325eb4ff-b082-40a6-a0b0-ba32a99d9736"
      },
      "source": [
        "%%time\n",
        "pmf_2 = PMF(\n",
        "    n_features=20,\n",
        "    epsilon=0.05,\n",
        "    _lambda=0.00000001,\n",
        "    momentum=0.05,\n",
        "    max_epochs=10,\n",
        "    n_batches=80,\n",
        "    batch_size=5000\n",
        ")\n",
        "\n",
        "pmf_2.fit(train, test)"
      ],
      "execution_count": 16,
      "outputs": [
        {
          "output_type": "stream",
          "text": [
            "Training data: 172.52453222597046, Test data: 166.89086126859874\n",
            "Training data: 172.4665550444155, Test data: 166.8906080717176\n",
            "Training data: 161.4059138902015, Test data: 166.84818662561221\n",
            "Training data: 122.4724869519535, Test data: 166.48539102420125\n",
            "Training data: 120.8875760555901, Test data: 166.44530013342305\n",
            "Training data: 114.0606869593529, Test data: 167.84290762127677\n",
            "Training data: 94.25816528836836, Test data: 170.77690341041907\n",
            "Training data: 81.46482675094072, Test data: 173.60195235625162\n",
            "Training data: 77.46154355247013, Test data: 174.5007228016601\n",
            "Training data: 75.5443534426611, Test data: 174.63674827188916\n",
            "CPU times: user 24.1 s, sys: 1.77 s, total: 25.9 s\n",
            "Wall time: 24.7 s\n"
          ],
          "name": "stdout"
        }
      ]
    },
    {
      "cell_type": "markdown",
      "metadata": {
        "collapsed": false,
        "id": "s5R7kC_9Epwy"
      },
      "source": [
        "Помічаємо, що модель швидко перенавчається, тому візьмемо менше значення - d = 1"
      ]
    },
    {
      "cell_type": "code",
      "metadata": {
        "colab": {
          "base_uri": "https://localhost:8080/"
        },
        "id": "s-5oVwiWWzp5",
        "outputId": "a00455a8-23a3-41cf-81cd-b7a8c5b653c3"
      },
      "source": [
        "%%time\n",
        "pmf_3 = PMF(\n",
        "    n_features=1,\n",
        "    epsilon=0.05,\n",
        "    _lambda=0.00000001,\n",
        "    momentum=0.05,\n",
        "    max_epochs=10,\n",
        "    n_batches=80,\n",
        "    batch_size=5000\n",
        ")\n",
        "\n",
        "pmf_3.fit(train, test)"
      ],
      "execution_count": 17,
      "outputs": [
        {
          "output_type": "stream",
          "text": [
            "Training data: 172.5248825748737, Test data: 166.8908636226179\n",
            "Training data: 172.52234330501992, Test data: 166.8908109479639\n",
            "Training data: 172.06730121584758, Test data: 166.8884568703124\n",
            "Training data: 130.91429675981345, Test data: 166.69268085391377\n",
            "Training data: 122.2123975127902, Test data: 166.3312941477572\n",
            "Training data: 120.7004588127307, Test data: 166.74197902905686\n",
            "Training data: 117.56513500529896, Test data: 169.33332299602998\n",
            "Training data: 112.56673836024206, Test data: 175.17607503181972\n",
            "Training data: 103.83334367499471, Test data: 183.35218487678728\n",
            "Training data: 99.16100163451165, Test data: 191.5196209233007\n",
            "CPU times: user 20.3 s, sys: 1.02 s, total: 21.3 s\n",
            "Wall time: 20.3 s\n"
          ],
          "name": "stdout"
        }
      ]
    },
    {
      "cell_type": "markdown",
      "metadata": {
        "id": "em9b0w8acPes"
      },
      "source": [
        "Вже краще! І врешті-решт спробуємо для більшого d (d = 5)"
      ]
    },
    {
      "cell_type": "code",
      "metadata": {
        "pycharm": {
          "name": "#%%\n"
        },
        "colab": {
          "base_uri": "https://localhost:8080/"
        },
        "id": "apgevq3VEpw1",
        "outputId": "f40e4c02-6976-4e8b-dc49-c555c5b557aa"
      },
      "source": [
        "%%time\n",
        "pmf_4 = PMF(\n",
        "    n_features=5,\n",
        "    epsilon=0.05,\n",
        "    _lambda=0.00000001,\n",
        "    momentum=0.05,\n",
        "    max_epochs=10,\n",
        "    n_batches=80,\n",
        "    batch_size=5000\n",
        ")\n",
        "\n",
        "pmf_4.fit(train, test)"
      ],
      "execution_count": 18,
      "outputs": [
        {
          "output_type": "stream",
          "text": [
            "Training data: 172.52474030659116, Test data: 166.89087047041136\n",
            "Training data: 172.49372737913927, Test data: 166.89089879210906\n",
            "Training data: 166.78911251607434, Test data: 166.87564133411553\n",
            "Training data: 122.64926403483975, Test data: 166.5424703767993\n",
            "Training data: 121.68988167956064, Test data: 166.42908700230626\n",
            "Training data: 119.3463846514913, Test data: 167.55015282938956\n",
            "Training data: 112.71673327144251, Test data: 171.04294241675254\n",
            "Training data: 95.48314157999468, Test data: 176.38403331787927\n",
            "Training data: 83.50085186208852, Test data: 179.6100281056002\n",
            "Training data: 79.4254635527228, Test data: 181.06771820254164\n",
            "CPU times: user 20 s, sys: 1.12 s, total: 21.1 s\n",
            "Wall time: 19.9 s\n"
          ],
          "name": "stdout"
        }
      ]
    },
    {
      "cell_type": "markdown",
      "metadata": {
        "collapsed": false,
        "id": "QOD-zLMaEpw2"
      },
      "source": [
        "Помічаємо, що це найкращий з наших експериментів, тому залишаємо його. \n",
        "Та рахуємо для цієї ж моделі точність та повноту."
      ]
    },
    {
      "cell_type": "code",
      "metadata": {
        "colab": {
          "base_uri": "https://localhost:8080/"
        },
        "id": "3ySAwc2gcOyy",
        "outputId": "76bd413a-85af-467c-c2e4-8b4080b309b9"
      },
      "source": [
        "precision, recall = pmf_4.get_accuracies(test)\n",
        "print(f'precision = {precision}, recall = {recall}')"
      ],
      "execution_count": 19,
      "outputs": [
        {
          "output_type": "stream",
          "text": [
            "precision = 0.03319105344032681, recall = 0.16698502121032485\n"
          ],
          "name": "stdout"
        }
      ]
    },
    {
      "cell_type": "markdown",
      "metadata": {
        "id": "FxEiRokKYylW"
      },
      "source": [
        "Виходить, що результати моєї лабораторної роботи:\n",
        "\n",
        "$ d = 5;$ <br> $\\lambda = 0.033191$ <br> $\\sigma^2=0.166985$ \n"
      ]
    }
  ]
}